{
  "nbformat": 4,
  "nbformat_minor": 0,
  "metadata": {
    "colab": {
      "name": "cat_vs_dog.ipynb",
      "provenance": [],
      "collapsed_sections": [],
      "authorship_tag": "ABX9TyM2FlXQuzd806Rh8ax838Kd",
      "include_colab_link": true
    },
    "kernelspec": {
      "name": "python3",
      "display_name": "Python 3"
    },
    "language_info": {
      "name": "python"
    },
    "accelerator": "GPU"
  },
  "cells": [
    {
      "cell_type": "markdown",
      "metadata": {
        "id": "view-in-github",
        "colab_type": "text"
      },
      "source": [
        "<a href=\"https://colab.research.google.com/github/siddahant/Cat_vs_dog-CNN/blob/main/cat_vs_dog.ipynb\" target=\"_parent\"><img src=\"https://colab.research.google.com/assets/colab-badge.svg\" alt=\"Open In Colab\"/></a>"
      ]
    },
    {
      "cell_type": "code",
      "metadata": {
        "id": "cBDyyBxK4p08"
      },
      "source": [
        "import tensorflow as tf \n",
        "import numpy as np \n",
        "import matplotlib.pyplot as plt\n",
        "import os\n",
        "import cv2\n",
        "import random"
      ],
      "execution_count": 1,
      "outputs": []
    },
    {
      "cell_type": "code",
      "metadata": {
        "colab": {
          "base_uri": "https://localhost:8080/"
        },
        "id": "KdbYvQ4v5N6M",
        "outputId": "093ccbd7-29d6-47b7-fdf1-fb8d72d33ff8"
      },
      "source": [
        "url='http://storage.googleapis.com/mledu-datasets/cats_and_dogs_filtered.zip'\n",
        "zip_dir=tf.keras.utils.get_file('cats_and_dogs_filtered.zip',origin=url,extract=True)"
      ],
      "execution_count": 2,
      "outputs": [
        {
          "output_type": "stream",
          "text": [
            "Downloading data from http://storage.googleapis.com/mledu-datasets/cats_and_dogs_filtered.zip\n",
            "68608000/68606236 [==============================] - 0s 0us/step\n"
          ],
          "name": "stdout"
        }
      ]
    },
    {
      "cell_type": "code",
      "metadata": {
        "colab": {
          "base_uri": "https://localhost:8080/"
        },
        "id": "A_Govga86G6m",
        "outputId": "dae3e9d4-f57b-478f-ecd1-ec8ee3d8bbc4"
      },
      "source": [
        "zip_dir_base=os.path.dirname(zip_dir)\n",
        "!find $zip_dir_base -type d -print"
      ],
      "execution_count": 3,
      "outputs": [
        {
          "output_type": "stream",
          "text": [
            "/root/.keras/datasets\n",
            "/root/.keras/datasets/cats_and_dogs_filtered\n",
            "/root/.keras/datasets/cats_and_dogs_filtered/validation\n",
            "/root/.keras/datasets/cats_and_dogs_filtered/validation/cats\n",
            "/root/.keras/datasets/cats_and_dogs_filtered/validation/dogs\n",
            "/root/.keras/datasets/cats_and_dogs_filtered/train\n",
            "/root/.keras/datasets/cats_and_dogs_filtered/train/cats\n",
            "/root/.keras/datasets/cats_and_dogs_filtered/train/dogs\n"
          ],
          "name": "stdout"
        }
      ]
    },
    {
      "cell_type": "code",
      "metadata": {
        "id": "VhstOMbE6umI"
      },
      "source": [
        "base_dir=os.path.join(zip_dir_base,\"cats_and_dogs_filtered\")\n",
        "\n",
        "train_path=os.path.join(base_dir,'train')\n",
        "validation_path=os.path.join(base_dir,'validation')\n",
        "\n",
        "\n"
      ],
      "execution_count": 4,
      "outputs": []
    },
    {
      "cell_type": "code",
      "metadata": {
        "id": "cI08afVb894K"
      },
      "source": [
        "train_data=[]\n",
        "valid_data=[]\n",
        "categories=['cats','dogs']\n",
        "\n",
        "for category in categories:\n",
        "  path_trr=os.path.join(train_path,category)\n",
        "  path_valid=os.path.join(validation_path,category)\n",
        "\n",
        "  for trr_img in os.listdir(path_trr):\n",
        "    trr_lable=categories.index(category)\n",
        "    img_path_trr=os.path.join(path_trr,trr_img)\n",
        "    img_trr_arr=cv2.imread(img_path_trr)\n",
        "    img_trr_arr=cv2.resize(img_trr_arr,(150,150))\n",
        "    train_data.append([img_trr_arr,trr_lable])\n",
        "\n",
        "  for val_img in os.listdir(path_valid):\n",
        "    val_lable=categories.index(category)\n",
        "    img_path_val=os.path.join(path_valid,val_img)\n",
        "    img_val_arr=cv2.imread(img_path_val)\n",
        "    img_val_arr=cv2.resize(img_val_arr,(150,150))\n",
        "    valid_data.append([img_val_arr,val_lable])"
      ],
      "execution_count": 5,
      "outputs": []
    },
    {
      "cell_type": "code",
      "metadata": {
        "id": "i6bjdknsSsHA"
      },
      "source": [
        "random.shuffle(train_data)\n",
        "random.shuffle(valid_data)"
      ],
      "execution_count": 6,
      "outputs": []
    },
    {
      "cell_type": "code",
      "metadata": {
        "id": "NzPsy0_cDGVX"
      },
      "source": [
        "x_train=[]\n",
        "y_train=[]\n",
        "x_valid=[]\n",
        "y_valid=[]\n",
        "\n",
        "for images,lable in train_data:\n",
        "  x_train.append(images)\n",
        "  y_train.append(lable)\n",
        "\n",
        "for images1,lable1 in valid_data:\n",
        "  x_valid.append(images1)\n",
        "  y_valid.append(lable1)\n"
      ],
      "execution_count": 7,
      "outputs": []
    },
    {
      "cell_type": "code",
      "metadata": {
        "id": "TcB0gPaiDbmH"
      },
      "source": [
        "x_train=np.array(x_train)\n",
        "y_train=np.array(y_train)\n",
        "x_valid=np.array(x_valid)\n",
        "y_valid=np.array(y_valid)\n"
      ],
      "execution_count": 8,
      "outputs": []
    },
    {
      "cell_type": "code",
      "metadata": {
        "colab": {
          "base_uri": "https://localhost:8080/"
        },
        "id": "-GdnfSfkFDPu",
        "outputId": "1d168dff-1006-4c1f-984b-b1b2deb8d5be"
      },
      "source": [
        "x_train=x_train/255\n",
        "\n",
        "print(x_train.shape)"
      ],
      "execution_count": 9,
      "outputs": [
        {
          "output_type": "stream",
          "text": [
            "(2000, 150, 150, 3)\n"
          ],
          "name": "stdout"
        }
      ]
    },
    {
      "cell_type": "code",
      "metadata": {
        "id": "WMotPTwQFJLh"
      },
      "source": [
        "x_valid=x_valid/255"
      ],
      "execution_count": 10,
      "outputs": []
    },
    {
      "cell_type": "code",
      "metadata": {
        "id": "P4hDhw2mPJ6Y"
      },
      "source": [
        "model=tf.keras.Sequential([\n",
        "                           tf.keras.layers.Conv2D(32,(3,3),strides=(2,2),activation='relu', input_shape = (150,150,3)),\n",
        "                           tf.keras.layers.MaxPooling2D(pool_size=(2,2)),\n",
        "\n",
        "                           tf.keras.layers.Conv2D(64,(3,3),strides=(2,2),activation='relu'),\n",
        "                           tf.keras.layers.MaxPooling2D(pool_size=(2,2)),\n",
        "\n",
        "                           tf.keras.layers.Conv2D(128,(3,3),strides=(2,2),activation='relu'),\n",
        "                           tf.keras.layers.MaxPooling2D(pool_size=(2,2)),\n",
        "                          \n",
        "\n",
        "                           tf.keras.layers.Flatten(),\n",
        "                           tf.keras.layers.Dense(512,activation='relu',input_shape=x_train[1:]),\n",
        "                           tf.keras.layers.Dense(2,activation='softmax')                                    \n",
        "])\n"
      ],
      "execution_count": 11,
      "outputs": []
    },
    {
      "cell_type": "code",
      "metadata": {
        "colab": {
          "base_uri": "https://localhost:8080/"
        },
        "id": "J_3ExPbgWii0",
        "outputId": "0901752e-71f1-4f54-8f74-30340d480fad"
      },
      "source": [
        "print(model.summary())"
      ],
      "execution_count": 12,
      "outputs": [
        {
          "output_type": "stream",
          "text": [
            "Model: \"sequential\"\n",
            "_________________________________________________________________\n",
            "Layer (type)                 Output Shape              Param #   \n",
            "=================================================================\n",
            "conv2d (Conv2D)              (None, 74, 74, 32)        896       \n",
            "_________________________________________________________________\n",
            "max_pooling2d (MaxPooling2D) (None, 37, 37, 32)        0         \n",
            "_________________________________________________________________\n",
            "conv2d_1 (Conv2D)            (None, 18, 18, 64)        18496     \n",
            "_________________________________________________________________\n",
            "max_pooling2d_1 (MaxPooling2 (None, 9, 9, 64)          0         \n",
            "_________________________________________________________________\n",
            "conv2d_2 (Conv2D)            (None, 4, 4, 128)         73856     \n",
            "_________________________________________________________________\n",
            "max_pooling2d_2 (MaxPooling2 (None, 2, 2, 128)         0         \n",
            "_________________________________________________________________\n",
            "flatten (Flatten)            (None, 512)               0         \n",
            "_________________________________________________________________\n",
            "dense (Dense)                (None, 512)               262656    \n",
            "_________________________________________________________________\n",
            "dense_1 (Dense)              (None, 2)                 1026      \n",
            "=================================================================\n",
            "Total params: 356,930\n",
            "Trainable params: 356,930\n",
            "Non-trainable params: 0\n",
            "_________________________________________________________________\n",
            "None\n"
          ],
          "name": "stdout"
        }
      ]
    },
    {
      "cell_type": "code",
      "metadata": {
        "id": "uYSBw7GZTV2m"
      },
      "source": [
        "model.compile(optimizer='adam',\n",
        "              loss=tf.keras.losses.sparse_categorical_crossentropy,\n",
        "              metrics=['accuracy'])"
      ],
      "execution_count": 13,
      "outputs": []
    },
    {
      "cell_type": "code",
      "metadata": {
        "colab": {
          "base_uri": "https://localhost:8080/"
        },
        "id": "0GKM5zPqTziW",
        "outputId": "2d0fd545-08b8-48ad-a4d1-2a70fec13dd3"
      },
      "source": [
        "history = model.fit(x_train,y_train,epochs=100,validation_data=(x_valid,y_valid),steps_per_epoch=20,validation_steps=10)"
      ],
      "execution_count": 14,
      "outputs": [
        {
          "output_type": "stream",
          "text": [
            "Epoch 1/100\n",
            "20/20 [==============================] - 34s 61ms/step - loss: 0.6984 - accuracy: 0.5008 - val_loss: 0.6855 - val_accuracy: 0.5000\n",
            "Epoch 2/100\n",
            "20/20 [==============================] - 1s 37ms/step - loss: 0.6831 - accuracy: 0.5470 - val_loss: 0.6630 - val_accuracy: 0.5290\n",
            "Epoch 3/100\n",
            "20/20 [==============================] - 1s 35ms/step - loss: 0.6569 - accuracy: 0.5878 - val_loss: 0.6369 - val_accuracy: 0.5930\n",
            "Epoch 4/100\n",
            "20/20 [==============================] - 1s 35ms/step - loss: 0.6009 - accuracy: 0.6524 - val_loss: 0.6263 - val_accuracy: 0.6300\n",
            "Epoch 5/100\n",
            "20/20 [==============================] - 1s 36ms/step - loss: 0.5985 - accuracy: 0.6501 - val_loss: 0.5952 - val_accuracy: 0.6630\n",
            "Epoch 6/100\n",
            "20/20 [==============================] - 1s 36ms/step - loss: 0.5106 - accuracy: 0.7569 - val_loss: 0.5580 - val_accuracy: 0.7020\n",
            "Epoch 7/100\n",
            "20/20 [==============================] - 1s 37ms/step - loss: 0.4413 - accuracy: 0.8020 - val_loss: 0.5682 - val_accuracy: 0.7020\n",
            "Epoch 8/100\n",
            "20/20 [==============================] - 1s 35ms/step - loss: 0.3897 - accuracy: 0.8360 - val_loss: 0.5921 - val_accuracy: 0.6820\n",
            "Epoch 9/100\n",
            "20/20 [==============================] - 1s 35ms/step - loss: 0.3788 - accuracy: 0.8384 - val_loss: 0.5917 - val_accuracy: 0.7170\n",
            "Epoch 10/100\n",
            "20/20 [==============================] - 1s 36ms/step - loss: 0.2861 - accuracy: 0.8739 - val_loss: 0.5883 - val_accuracy: 0.7250\n",
            "Epoch 11/100\n",
            "20/20 [==============================] - 1s 36ms/step - loss: 0.2124 - accuracy: 0.9183 - val_loss: 0.6163 - val_accuracy: 0.7160\n",
            "Epoch 12/100\n",
            "20/20 [==============================] - 1s 35ms/step - loss: 0.1485 - accuracy: 0.9544 - val_loss: 0.6662 - val_accuracy: 0.7270\n",
            "Epoch 13/100\n",
            "20/20 [==============================] - 1s 35ms/step - loss: 0.0987 - accuracy: 0.9773 - val_loss: 0.7181 - val_accuracy: 0.7360\n",
            "Epoch 14/100\n",
            "20/20 [==============================] - 1s 36ms/step - loss: 0.0579 - accuracy: 0.9905 - val_loss: 0.8077 - val_accuracy: 0.7380\n",
            "Epoch 15/100\n",
            "20/20 [==============================] - 1s 35ms/step - loss: 0.0360 - accuracy: 0.9943 - val_loss: 0.8259 - val_accuracy: 0.7360\n",
            "Epoch 16/100\n",
            "20/20 [==============================] - 1s 36ms/step - loss: 0.0200 - accuracy: 0.9999 - val_loss: 0.8878 - val_accuracy: 0.7270\n",
            "Epoch 17/100\n",
            "20/20 [==============================] - 1s 35ms/step - loss: 0.0100 - accuracy: 1.0000 - val_loss: 0.9610 - val_accuracy: 0.7440\n",
            "Epoch 18/100\n",
            "20/20 [==============================] - 1s 34ms/step - loss: 0.0072 - accuracy: 1.0000 - val_loss: 0.9860 - val_accuracy: 0.7480\n",
            "Epoch 19/100\n",
            "20/20 [==============================] - 1s 35ms/step - loss: 0.0045 - accuracy: 1.0000 - val_loss: 1.0254 - val_accuracy: 0.7360\n",
            "Epoch 20/100\n",
            "20/20 [==============================] - 1s 35ms/step - loss: 0.0031 - accuracy: 1.0000 - val_loss: 1.0541 - val_accuracy: 0.7430\n",
            "Epoch 21/100\n",
            "20/20 [==============================] - 1s 35ms/step - loss: 0.0024 - accuracy: 1.0000 - val_loss: 1.0804 - val_accuracy: 0.7400\n",
            "Epoch 22/100\n",
            "20/20 [==============================] - 1s 36ms/step - loss: 0.0019 - accuracy: 1.0000 - val_loss: 1.1099 - val_accuracy: 0.7330\n",
            "Epoch 23/100\n",
            "20/20 [==============================] - 1s 36ms/step - loss: 0.0017 - accuracy: 1.0000 - val_loss: 1.1275 - val_accuracy: 0.7380\n",
            "Epoch 24/100\n",
            "20/20 [==============================] - 1s 35ms/step - loss: 0.0013 - accuracy: 1.0000 - val_loss: 1.1440 - val_accuracy: 0.7370\n",
            "Epoch 25/100\n",
            "20/20 [==============================] - 1s 34ms/step - loss: 0.0011 - accuracy: 1.0000 - val_loss: 1.1669 - val_accuracy: 0.7320\n",
            "Epoch 26/100\n",
            "20/20 [==============================] - 1s 35ms/step - loss: 0.0010 - accuracy: 1.0000 - val_loss: 1.1810 - val_accuracy: 0.7280\n",
            "Epoch 27/100\n",
            "20/20 [==============================] - 1s 36ms/step - loss: 8.1429e-04 - accuracy: 1.0000 - val_loss: 1.2076 - val_accuracy: 0.7300\n",
            "Epoch 28/100\n",
            "20/20 [==============================] - 1s 36ms/step - loss: 7.7595e-04 - accuracy: 1.0000 - val_loss: 1.2176 - val_accuracy: 0.7320\n",
            "Epoch 29/100\n",
            "20/20 [==============================] - 1s 35ms/step - loss: 6.7530e-04 - accuracy: 1.0000 - val_loss: 1.2260 - val_accuracy: 0.7380\n",
            "Epoch 30/100\n",
            "20/20 [==============================] - 1s 36ms/step - loss: 6.2910e-04 - accuracy: 1.0000 - val_loss: 1.2438 - val_accuracy: 0.7330\n",
            "Epoch 31/100\n",
            "20/20 [==============================] - 1s 36ms/step - loss: 5.0659e-04 - accuracy: 1.0000 - val_loss: 1.2630 - val_accuracy: 0.7330\n",
            "Epoch 32/100\n",
            "20/20 [==============================] - 1s 36ms/step - loss: 4.5471e-04 - accuracy: 1.0000 - val_loss: 1.2714 - val_accuracy: 0.7330\n",
            "Epoch 33/100\n",
            "20/20 [==============================] - 1s 36ms/step - loss: 4.2655e-04 - accuracy: 1.0000 - val_loss: 1.2867 - val_accuracy: 0.7340\n",
            "Epoch 34/100\n",
            "20/20 [==============================] - 1s 35ms/step - loss: 3.8536e-04 - accuracy: 1.0000 - val_loss: 1.2975 - val_accuracy: 0.7320\n",
            "Epoch 35/100\n",
            "20/20 [==============================] - 1s 36ms/step - loss: 3.8498e-04 - accuracy: 1.0000 - val_loss: 1.3117 - val_accuracy: 0.7320\n",
            "Epoch 36/100\n",
            "20/20 [==============================] - 1s 34ms/step - loss: 3.0140e-04 - accuracy: 1.0000 - val_loss: 1.3275 - val_accuracy: 0.7260\n",
            "Epoch 37/100\n",
            "20/20 [==============================] - 1s 36ms/step - loss: 2.9767e-04 - accuracy: 1.0000 - val_loss: 1.3354 - val_accuracy: 0.7310\n",
            "Epoch 38/100\n",
            "20/20 [==============================] - 1s 34ms/step - loss: 2.6522e-04 - accuracy: 1.0000 - val_loss: 1.3444 - val_accuracy: 0.7330\n",
            "Epoch 39/100\n",
            "20/20 [==============================] - 1s 36ms/step - loss: 2.6084e-04 - accuracy: 1.0000 - val_loss: 1.3573 - val_accuracy: 0.7280\n",
            "Epoch 40/100\n",
            "20/20 [==============================] - 1s 34ms/step - loss: 2.0718e-04 - accuracy: 1.0000 - val_loss: 1.3692 - val_accuracy: 0.7280\n",
            "Epoch 41/100\n",
            "20/20 [==============================] - 1s 35ms/step - loss: 2.0968e-04 - accuracy: 1.0000 - val_loss: 1.3862 - val_accuracy: 0.7280\n",
            "Epoch 42/100\n",
            "20/20 [==============================] - 1s 35ms/step - loss: 1.9415e-04 - accuracy: 1.0000 - val_loss: 1.3920 - val_accuracy: 0.7260\n",
            "Epoch 43/100\n",
            "20/20 [==============================] - 1s 36ms/step - loss: 1.9169e-04 - accuracy: 1.0000 - val_loss: 1.3982 - val_accuracy: 0.7260\n",
            "Epoch 44/100\n",
            "20/20 [==============================] - 1s 35ms/step - loss: 1.5552e-04 - accuracy: 1.0000 - val_loss: 1.4148 - val_accuracy: 0.7300\n",
            "Epoch 45/100\n",
            "20/20 [==============================] - 1s 36ms/step - loss: 1.6018e-04 - accuracy: 1.0000 - val_loss: 1.4201 - val_accuracy: 0.7270\n",
            "Epoch 46/100\n",
            "20/20 [==============================] - 1s 35ms/step - loss: 1.4403e-04 - accuracy: 1.0000 - val_loss: 1.4278 - val_accuracy: 0.7240\n",
            "Epoch 47/100\n",
            "20/20 [==============================] - 1s 34ms/step - loss: 1.3126e-04 - accuracy: 1.0000 - val_loss: 1.4396 - val_accuracy: 0.7240\n",
            "Epoch 48/100\n",
            "20/20 [==============================] - 1s 35ms/step - loss: 1.2368e-04 - accuracy: 1.0000 - val_loss: 1.4519 - val_accuracy: 0.7270\n",
            "Epoch 49/100\n",
            "20/20 [==============================] - 1s 34ms/step - loss: 1.2503e-04 - accuracy: 1.0000 - val_loss: 1.4570 - val_accuracy: 0.7280\n",
            "Epoch 50/100\n",
            "20/20 [==============================] - 1s 35ms/step - loss: 1.1680e-04 - accuracy: 1.0000 - val_loss: 1.4645 - val_accuracy: 0.7260\n",
            "Epoch 51/100\n",
            "20/20 [==============================] - 1s 36ms/step - loss: 1.0867e-04 - accuracy: 1.0000 - val_loss: 1.4660 - val_accuracy: 0.7400\n",
            "Epoch 52/100\n",
            "20/20 [==============================] - 1s 34ms/step - loss: 1.0166e-04 - accuracy: 1.0000 - val_loss: 1.4745 - val_accuracy: 0.7400\n",
            "Epoch 53/100\n",
            "20/20 [==============================] - 1s 35ms/step - loss: 8.9511e-05 - accuracy: 1.0000 - val_loss: 1.4854 - val_accuracy: 0.7260\n",
            "Epoch 54/100\n",
            "20/20 [==============================] - 1s 34ms/step - loss: 9.0356e-05 - accuracy: 1.0000 - val_loss: 1.4906 - val_accuracy: 0.7300\n",
            "Epoch 55/100\n",
            "20/20 [==============================] - 1s 34ms/step - loss: 8.2424e-05 - accuracy: 1.0000 - val_loss: 1.5007 - val_accuracy: 0.7310\n",
            "Epoch 56/100\n",
            "20/20 [==============================] - 1s 35ms/step - loss: 8.1251e-05 - accuracy: 1.0000 - val_loss: 1.5126 - val_accuracy: 0.7250\n",
            "Epoch 57/100\n",
            "20/20 [==============================] - 1s 34ms/step - loss: 7.3064e-05 - accuracy: 1.0000 - val_loss: 1.5165 - val_accuracy: 0.7260\n",
            "Epoch 58/100\n",
            "20/20 [==============================] - 1s 36ms/step - loss: 7.0871e-05 - accuracy: 1.0000 - val_loss: 1.5207 - val_accuracy: 0.7370\n",
            "Epoch 59/100\n",
            "20/20 [==============================] - 1s 36ms/step - loss: 6.6704e-05 - accuracy: 1.0000 - val_loss: 1.5317 - val_accuracy: 0.7240\n",
            "Epoch 60/100\n",
            "20/20 [==============================] - 1s 36ms/step - loss: 6.3169e-05 - accuracy: 1.0000 - val_loss: 1.5353 - val_accuracy: 0.7290\n",
            "Epoch 61/100\n",
            "20/20 [==============================] - 1s 35ms/step - loss: 5.7991e-05 - accuracy: 1.0000 - val_loss: 1.5445 - val_accuracy: 0.7250\n",
            "Epoch 62/100\n",
            "20/20 [==============================] - 1s 35ms/step - loss: 5.7980e-05 - accuracy: 1.0000 - val_loss: 1.5482 - val_accuracy: 0.7300\n",
            "Epoch 63/100\n",
            "20/20 [==============================] - 1s 36ms/step - loss: 5.5970e-05 - accuracy: 1.0000 - val_loss: 1.5540 - val_accuracy: 0.7310\n",
            "Epoch 64/100\n",
            "20/20 [==============================] - 1s 36ms/step - loss: 5.1721e-05 - accuracy: 1.0000 - val_loss: 1.5600 - val_accuracy: 0.7320\n",
            "Epoch 65/100\n",
            "20/20 [==============================] - 1s 35ms/step - loss: 4.8703e-05 - accuracy: 1.0000 - val_loss: 1.5665 - val_accuracy: 0.7310\n",
            "Epoch 66/100\n",
            "20/20 [==============================] - 1s 36ms/step - loss: 4.7299e-05 - accuracy: 1.0000 - val_loss: 1.5766 - val_accuracy: 0.7250\n",
            "Epoch 67/100\n",
            "20/20 [==============================] - 1s 36ms/step - loss: 4.7071e-05 - accuracy: 1.0000 - val_loss: 1.5778 - val_accuracy: 0.7320\n",
            "Epoch 68/100\n",
            "20/20 [==============================] - 1s 35ms/step - loss: 4.1669e-05 - accuracy: 1.0000 - val_loss: 1.5855 - val_accuracy: 0.7310\n",
            "Epoch 69/100\n",
            "20/20 [==============================] - 1s 36ms/step - loss: 3.9202e-05 - accuracy: 1.0000 - val_loss: 1.5973 - val_accuracy: 0.7260\n",
            "Epoch 70/100\n",
            "20/20 [==============================] - 1s 37ms/step - loss: 4.0936e-05 - accuracy: 1.0000 - val_loss: 1.5947 - val_accuracy: 0.7310\n",
            "Epoch 71/100\n",
            "20/20 [==============================] - 1s 35ms/step - loss: 3.8502e-05 - accuracy: 1.0000 - val_loss: 1.6047 - val_accuracy: 0.7290\n",
            "Epoch 72/100\n",
            "20/20 [==============================] - 1s 36ms/step - loss: 3.5785e-05 - accuracy: 1.0000 - val_loss: 1.6063 - val_accuracy: 0.7310\n",
            "Epoch 73/100\n",
            "20/20 [==============================] - 1s 36ms/step - loss: 3.5740e-05 - accuracy: 1.0000 - val_loss: 1.6139 - val_accuracy: 0.7320\n",
            "Epoch 74/100\n",
            "20/20 [==============================] - 1s 36ms/step - loss: 3.2671e-05 - accuracy: 1.0000 - val_loss: 1.6174 - val_accuracy: 0.7310\n",
            "Epoch 75/100\n",
            "20/20 [==============================] - 1s 35ms/step - loss: 3.0319e-05 - accuracy: 1.0000 - val_loss: 1.6213 - val_accuracy: 0.7300\n",
            "Epoch 76/100\n",
            "20/20 [==============================] - 1s 35ms/step - loss: 2.9403e-05 - accuracy: 1.0000 - val_loss: 1.6283 - val_accuracy: 0.7310\n",
            "Epoch 77/100\n",
            "20/20 [==============================] - 1s 35ms/step - loss: 2.9789e-05 - accuracy: 1.0000 - val_loss: 1.6343 - val_accuracy: 0.7280\n",
            "Epoch 78/100\n",
            "20/20 [==============================] - 1s 34ms/step - loss: 2.9536e-05 - accuracy: 1.0000 - val_loss: 1.6381 - val_accuracy: 0.7330\n",
            "Epoch 79/100\n",
            "20/20 [==============================] - 1s 37ms/step - loss: 2.8121e-05 - accuracy: 1.0000 - val_loss: 1.6441 - val_accuracy: 0.7310\n",
            "Epoch 80/100\n",
            "20/20 [==============================] - 1s 36ms/step - loss: 2.7297e-05 - accuracy: 1.0000 - val_loss: 1.6471 - val_accuracy: 0.7320\n",
            "Epoch 81/100\n",
            "20/20 [==============================] - 1s 36ms/step - loss: 2.5773e-05 - accuracy: 1.0000 - val_loss: 1.6546 - val_accuracy: 0.7330\n",
            "Epoch 82/100\n",
            "20/20 [==============================] - 1s 37ms/step - loss: 2.4620e-05 - accuracy: 1.0000 - val_loss: 1.6586 - val_accuracy: 0.7310\n",
            "Epoch 83/100\n",
            "20/20 [==============================] - 1s 34ms/step - loss: 2.3448e-05 - accuracy: 1.0000 - val_loss: 1.6620 - val_accuracy: 0.7340\n",
            "Epoch 84/100\n",
            "20/20 [==============================] - 1s 36ms/step - loss: 2.4979e-05 - accuracy: 1.0000 - val_loss: 1.6675 - val_accuracy: 0.7330\n",
            "Epoch 85/100\n",
            "20/20 [==============================] - 1s 34ms/step - loss: 2.2858e-05 - accuracy: 1.0000 - val_loss: 1.6726 - val_accuracy: 0.7330\n",
            "Epoch 86/100\n",
            "20/20 [==============================] - 1s 36ms/step - loss: 2.3384e-05 - accuracy: 1.0000 - val_loss: 1.6772 - val_accuracy: 0.7350\n",
            "Epoch 87/100\n",
            "20/20 [==============================] - 1s 36ms/step - loss: 2.0062e-05 - accuracy: 1.0000 - val_loss: 1.6809 - val_accuracy: 0.7300\n",
            "Epoch 88/100\n",
            "20/20 [==============================] - 1s 35ms/step - loss: 1.8552e-05 - accuracy: 1.0000 - val_loss: 1.6864 - val_accuracy: 0.7300\n",
            "Epoch 89/100\n",
            "20/20 [==============================] - 1s 35ms/step - loss: 1.9837e-05 - accuracy: 1.0000 - val_loss: 1.6894 - val_accuracy: 0.7380\n",
            "Epoch 90/100\n",
            "20/20 [==============================] - 1s 36ms/step - loss: 1.9785e-05 - accuracy: 1.0000 - val_loss: 1.6958 - val_accuracy: 0.7320\n",
            "Epoch 91/100\n",
            "20/20 [==============================] - 1s 36ms/step - loss: 1.7703e-05 - accuracy: 1.0000 - val_loss: 1.7001 - val_accuracy: 0.7310\n",
            "Epoch 92/100\n",
            "20/20 [==============================] - 1s 36ms/step - loss: 1.6283e-05 - accuracy: 1.0000 - val_loss: 1.7034 - val_accuracy: 0.7330\n",
            "Epoch 93/100\n",
            "20/20 [==============================] - 1s 36ms/step - loss: 1.7530e-05 - accuracy: 1.0000 - val_loss: 1.7089 - val_accuracy: 0.7290\n",
            "Epoch 94/100\n",
            "20/20 [==============================] - 1s 35ms/step - loss: 1.6509e-05 - accuracy: 1.0000 - val_loss: 1.7138 - val_accuracy: 0.7310\n",
            "Epoch 95/100\n",
            "20/20 [==============================] - 1s 37ms/step - loss: 1.6092e-05 - accuracy: 1.0000 - val_loss: 1.7166 - val_accuracy: 0.7330\n",
            "Epoch 96/100\n",
            "20/20 [==============================] - 1s 37ms/step - loss: 1.6248e-05 - accuracy: 1.0000 - val_loss: 1.7214 - val_accuracy: 0.7300\n",
            "Epoch 97/100\n",
            "20/20 [==============================] - 1s 35ms/step - loss: 1.3694e-05 - accuracy: 1.0000 - val_loss: 1.7244 - val_accuracy: 0.7310\n",
            "Epoch 98/100\n",
            "20/20 [==============================] - 1s 36ms/step - loss: 1.4149e-05 - accuracy: 1.0000 - val_loss: 1.7299 - val_accuracy: 0.7320\n",
            "Epoch 99/100\n",
            "20/20 [==============================] - 1s 35ms/step - loss: 1.4143e-05 - accuracy: 1.0000 - val_loss: 1.7344 - val_accuracy: 0.7300\n",
            "Epoch 100/100\n",
            "20/20 [==============================] - 1s 35ms/step - loss: 1.3675e-05 - accuracy: 1.0000 - val_loss: 1.7378 - val_accuracy: 0.7310\n"
          ],
          "name": "stdout"
        }
      ]
    },
    {
      "cell_type": "code",
      "metadata": {
        "colab": {
          "base_uri": "https://localhost:8080/",
          "height": 499
        },
        "id": "vCiQ-_SmhbQY",
        "outputId": "88010b6a-d710-49ef-bf06-33a2405a3fef"
      },
      "source": [
        "acc=history.history['accuracy']\n",
        "val_acc=history.history['val_accuracy']\n",
        "loss=history.history['loss']\n",
        "val_loss=history.history['val_loss']\n",
        "epochs_range=range(100)\n",
        "\n",
        "plt.figure(figsize=(8,8))\n",
        "plt.subplot(1,2,1)\n",
        "plt.plot(epochs_range,acc,label='Traning_accuracy')\n",
        "plt.plot(epochs_range,val_acc,label='validation_accuracy')\n",
        "plt.legend(loc='lower right')\n",
        "plt.title('Training and validation accuracy')\n",
        "\n",
        "plt.subplot(1,2,2)\n",
        "plt.plot(epochs_range,loss,label='Traning_loss')\n",
        "plt.plot(epochs_range,val_loss,label='validation_loss')\n",
        "plt.legend(loc='upper right')\n",
        "plt.title('Training and validation loss')\n",
        "plt.savefig('./foo.png')\n",
        "plt.show()\n",
        "\n"
      ],
      "execution_count": 15,
      "outputs": [
        {
          "output_type": "display_data",
          "data": {
            "image/png": "[encoded data removed]",
            "text/plain": [
              "<Figure size 576x576 with 2 Axes>"
            ]
          },
          "metadata": {
            "tags": [],
            "needs_background": "light"
          }
        }
      ]
    }
  ]
}