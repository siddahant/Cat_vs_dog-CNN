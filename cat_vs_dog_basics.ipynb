{
  "nbformat": 4,
  "nbformat_minor": 0,
  "metadata": {
    "colab": {
      "name": "cat_vs_dog_basics.ipynb",
      "provenance": [],
      "collapsed_sections": [],
      "authorship_tag": "ABX9TyOPaX9ZkhhoMbrhRShesMRF",
      "include_colab_link": true
    },
    "kernelspec": {
      "name": "python3",
      "display_name": "Python 3"
    },
    "language_info": {
      "name": "python"
    },
    "accelerator": "GPU"
  },
  "cells": [
    {
      "cell_type": "markdown",
      "metadata": {
        "id": "view-in-github",
        "colab_type": "text"
      },
      "source": [
        "<a href=\"https://colab.research.google.com/github/siddahant/Cat_vs_dog-CNN/blob/main/cat_vs_dog_basics.ipynb\" target=\"_parent\"><img src=\"https://colab.research.google.com/assets/colab-badge.svg\" alt=\"Open In Colab\"/></a>"
      ]
    },
    {
      "cell_type": "code",
      "metadata": {
        "id": "cBDyyBxK4p08"
      },
      "source": [
        "import tensorflow as tf \n",
        "import numpy as np \n",
        "import matplotlib.pyplot as plt\n",
        "import os\n",
        "import cv2\n",
        "import random"
      ],
      "execution_count": 2,
      "outputs": []
    },
    {
      "cell_type": "code",
      "metadata": {
        "colab": {
          "base_uri": "https://localhost:8080/"
        },
        "id": "KdbYvQ4v5N6M",
        "outputId": "d42e82da-b13c-4ed4-8df0-e91ac899b623"
      },
      "source": [
        "url='http://storage.googleapis.com/mledu-datasets/cats_and_dogs_filtered.zip'\n",
        "zip_dir=tf.keras.utils.get_file('cats_and_dogs_filtered.zip',origin=url,extract=True)"
      ],
      "execution_count": 3,
      "outputs": [
        {
          "output_type": "stream",
          "text": [
            "Downloading data from http://storage.googleapis.com/mledu-datasets/cats_and_dogs_filtered.zip\n",
            "68608000/68606236 [==============================] - 1s 0us/step\n"
          ],
          "name": "stdout"
        }
      ]
    },
    {
      "cell_type": "code",
      "metadata": {
        "colab": {
          "base_uri": "https://localhost:8080/"
        },
        "id": "A_Govga86G6m",
        "outputId": "0bbd6d68-c0be-4c4d-a935-6ac724d19966"
      },
      "source": [
        "zip_dir_base=os.path.dirname(zip_dir)\n",
        "!find $zip_dir_base -type d -print"
      ],
      "execution_count": 4,
      "outputs": [
        {
          "output_type": "stream",
          "text": [
            "/root/.keras/datasets\n",
            "/root/.keras/datasets/cats_and_dogs_filtered\n",
            "/root/.keras/datasets/cats_and_dogs_filtered/validation\n",
            "/root/.keras/datasets/cats_and_dogs_filtered/validation/dogs\n",
            "/root/.keras/datasets/cats_and_dogs_filtered/validation/cats\n",
            "/root/.keras/datasets/cats_and_dogs_filtered/train\n",
            "/root/.keras/datasets/cats_and_dogs_filtered/train/dogs\n",
            "/root/.keras/datasets/cats_and_dogs_filtered/train/cats\n"
          ],
          "name": "stdout"
        }
      ]
    },
    {
      "cell_type": "code",
      "metadata": {
        "id": "VhstOMbE6umI"
      },
      "source": [
        "base_dir=os.path.join(zip_dir_base,\"cats_and_dogs_filtered\")\n",
        "\n",
        "train_path=os.path.join(base_dir,'train')\n",
        "validation_path=os.path.join(base_dir,'validation')\n",
        "\n",
        "\n"
      ],
      "execution_count": 5,
      "outputs": []
    },
    {
      "cell_type": "code",
      "metadata": {
        "id": "cI08afVb894K"
      },
      "source": [
        "train_data=[]\n",
        "valid_data=[]\n",
        "categories=['cats','dogs']\n",
        "\n",
        "for category in categories:\n",
        "  path_trr=os.path.join(train_path,category)\n",
        "  path_valid=os.path.join(validation_path,category)\n",
        "\n",
        "  for trr_img in os.listdir(path_trr):\n",
        "    trr_lable=categories.index(category)\n",
        "    img_path_trr=os.path.join(path_trr,trr_img)\n",
        "    img_trr_arr=cv2.imread(img_path_trr)\n",
        "    img_trr_arr=cv2.resize(img_trr_arr,(150,150))\n",
        "    train_data.append([img_trr_arr,trr_lable])\n",
        "\n",
        "  for val_img in os.listdir(path_valid):\n",
        "    val_lable=categories.index(category)\n",
        "    img_path_val=os.path.join(path_valid,val_img)\n",
        "    img_val_arr=cv2.imread(img_path_val)\n",
        "    img_val_arr=cv2.resize(img_val_arr,(150,150))\n",
        "    valid_data.append([img_val_arr,val_lable])"
      ],
      "execution_count": 6,
      "outputs": []
    },
    {
      "cell_type": "code",
      "metadata": {
        "id": "i6bjdknsSsHA"
      },
      "source": [
        "random.shuffle(train_data)\n",
        "random.shuffle(valid_data)"
      ],
      "execution_count": 7,
      "outputs": []
    },
    {
      "cell_type": "code",
      "metadata": {
        "id": "NzPsy0_cDGVX"
      },
      "source": [
        "x_train=[]\n",
        "y_train=[]\n",
        "x_valid=[]\n",
        "y_valid=[]\n",
        "\n",
        "for images,lable in train_data:\n",
        "  x_train.append(images)\n",
        "  y_train.append(lable)\n",
        "\n",
        "for images1,lable1 in valid_data:\n",
        "  x_valid.append(images1)\n",
        "  y_valid.append(lable1)\n"
      ],
      "execution_count": 8,
      "outputs": []
    },
    {
      "cell_type": "code",
      "metadata": {
        "id": "TcB0gPaiDbmH"
      },
      "source": [
        "x_train=np.array(x_train)\n",
        "y_train=np.array(y_train)\n",
        "x_valid=np.array(x_valid)\n",
        "y_valid=np.array(y_valid)\n"
      ],
      "execution_count": 9,
      "outputs": []
    },
    {
      "cell_type": "code",
      "metadata": {
        "colab": {
          "base_uri": "https://localhost:8080/"
        },
        "id": "-GdnfSfkFDPu",
        "outputId": "3e9ebe78-c52f-48c3-8011-e435ad537e7d"
      },
      "source": [
        "x_train=x_train/255\n",
        "\n",
        "print(x_train.shape)"
      ],
      "execution_count": 10,
      "outputs": [
        {
          "output_type": "stream",
          "text": [
            "(2000, 150, 150, 3)\n"
          ],
          "name": "stdout"
        }
      ]
    },
    {
      "cell_type": "code",
      "metadata": {
        "id": "WMotPTwQFJLh"
      },
      "source": [
        "x_valid=x_valid/255"
      ],
      "execution_count": 11,
      "outputs": []
    },
    {
      "cell_type": "code",
      "metadata": {
        "id": "P4hDhw2mPJ6Y"
      },
      "source": [
        "model=tf.keras.Sequential([\n",
        "                           tf.keras.layers.Conv2D(32,(3,3),strides=(2,2),activation='relu', input_shape = (150,150,3)),\n",
        "                           tf.keras.layers.MaxPooling2D(pool_size=(2,2)),\n",
        "\n",
        "                           tf.keras.layers.Conv2D(64,(3,3),strides=(2,2),activation='relu'),\n",
        "                           tf.keras.layers.MaxPooling2D(pool_size=(2,2)),\n",
        "\n",
        "                           tf.keras.layers.Conv2D(128,(3,3),strides=(2,2),activation='relu'),\n",
        "                           tf.keras.layers.MaxPooling2D(pool_size=(2,2)),\n",
        "                          \n",
        "\n",
        "                           tf.keras.layers.Flatten(),\n",
        "                           tf.keras.layers.Dense(512,activation='relu',input_shape=x_train[1:]),\n",
        "                           tf.keras.layers.Dense(2,activation='softmax')                                    \n",
        "])\n"
      ],
      "execution_count": 12,
      "outputs": []
    },
    {
      "cell_type": "code",
      "metadata": {
        "colab": {
          "base_uri": "https://localhost:8080/"
        },
        "id": "J_3ExPbgWii0",
        "outputId": "326d9bfa-f992-4421-92ec-3e62384b90bf"
      },
      "source": [
        "print(model.summary())"
      ],
      "execution_count": 13,
      "outputs": [
        {
          "output_type": "stream",
          "text": [
            "Model: \"sequential\"\n",
            "_________________________________________________________________\n",
            "Layer (type)                 Output Shape              Param #   \n",
            "=================================================================\n",
            "conv2d (Conv2D)              (None, 74, 74, 32)        896       \n",
            "_________________________________________________________________\n",
            "max_pooling2d (MaxPooling2D) (None, 37, 37, 32)        0         \n",
            "_________________________________________________________________\n",
            "conv2d_1 (Conv2D)            (None, 18, 18, 64)        18496     \n",
            "_________________________________________________________________\n",
            "max_pooling2d_1 (MaxPooling2 (None, 9, 9, 64)          0         \n",
            "_________________________________________________________________\n",
            "conv2d_2 (Conv2D)            (None, 4, 4, 128)         73856     \n",
            "_________________________________________________________________\n",
            "max_pooling2d_2 (MaxPooling2 (None, 2, 2, 128)         0         \n",
            "_________________________________________________________________\n",
            "flatten (Flatten)            (None, 512)               0         \n",
            "_________________________________________________________________\n",
            "dense (Dense)                (None, 512)               262656    \n",
            "_________________________________________________________________\n",
            "dense_1 (Dense)              (None, 2)                 1026      \n",
            "=================================================================\n",
            "Total params: 356,930\n",
            "Trainable params: 356,930\n",
            "Non-trainable params: 0\n",
            "_________________________________________________________________\n",
            "None\n"
          ],
          "name": "stdout"
        }
      ]
    },
    {
      "cell_type": "code",
      "metadata": {
        "id": "uYSBw7GZTV2m"
      },
      "source": [
        "model.compile(optimizer='adam',\n",
        "              loss=tf.keras.losses.sparse_categorical_crossentropy,\n",
        "              metrics=['accuracy'])"
      ],
      "execution_count": 14,
      "outputs": []
    },
    {
      "cell_type": "code",
      "metadata": {
        "colab": {
          "base_uri": "https://localhost:8080/"
        },
        "id": "0GKM5zPqTziW",
        "outputId": "a59dd5cd-5a63-458c-f6a7-09569c9d01ae"
      },
      "source": [
        "history = model.fit(x_train,y_train,epochs=10,validation_data=(x_valid,y_valid),batch_size=1)"
      ],
      "execution_count": 19,
      "outputs": [
        {
          "output_type": "stream",
          "text": [
            "Epoch 1/10\n",
            "2000/2000 [==============================] - 7s 3ms/step - loss: 0.3792 - accuracy: 0.8325 - val_loss: 0.7699 - val_accuracy: 0.6760\n",
            "Epoch 2/10\n",
            "2000/2000 [==============================] - 7s 3ms/step - loss: 0.3289 - accuracy: 0.8485 - val_loss: 0.9201 - val_accuracy: 0.6670\n",
            "Epoch 3/10\n",
            "2000/2000 [==============================] - 7s 3ms/step - loss: 0.2725 - accuracy: 0.8800 - val_loss: 0.9847 - val_accuracy: 0.6840\n",
            "Epoch 4/10\n",
            "2000/2000 [==============================] - 7s 3ms/step - loss: 0.2355 - accuracy: 0.9055 - val_loss: 0.9400 - val_accuracy: 0.6840\n",
            "Epoch 5/10\n",
            "2000/2000 [==============================] - 7s 3ms/step - loss: 0.1968 - accuracy: 0.9140 - val_loss: 1.0415 - val_accuracy: 0.6490\n",
            "Epoch 6/10\n",
            "2000/2000 [==============================] - 7s 3ms/step - loss: 0.1708 - accuracy: 0.9315 - val_loss: 1.2627 - val_accuracy: 0.6610\n",
            "Epoch 7/10\n",
            "2000/2000 [==============================] - 7s 3ms/step - loss: 0.1548 - accuracy: 0.9385 - val_loss: 1.3565 - val_accuracy: 0.6720\n",
            "Epoch 8/10\n",
            "2000/2000 [==============================] - 7s 3ms/step - loss: 0.1367 - accuracy: 0.9560 - val_loss: 1.4276 - val_accuracy: 0.6860\n",
            "Epoch 9/10\n",
            "2000/2000 [==============================] - 7s 4ms/step - loss: 0.1432 - accuracy: 0.9400 - val_loss: 1.4244 - val_accuracy: 0.6770\n",
            "Epoch 10/10\n",
            "2000/2000 [==============================] - 7s 3ms/step - loss: 0.1297 - accuracy: 0.9505 - val_loss: 1.2870 - val_accuracy: 0.6640\n"
          ],
          "name": "stdout"
        }
      ]
    },
    {
      "cell_type": "code",
      "metadata": {
        "colab": {
          "base_uri": "https://localhost:8080/"
        },
        "id": "7kCNQo2mjt0f",
        "outputId": "25e516e0-dde7-42a4-8ce0-6200f805387b"
      },
      "source": [
        "test_loss, test_acc = model.evaluate(x_train,y_train)\n",
        "\n",
        "print('Test accuracy:', test_acc)"
      ],
      "execution_count": 20,
      "outputs": [
        {
          "output_type": "stream",
          "text": [
            "63/63 [==============================] - 1s 7ms/step - loss: 0.1125 - accuracy: 0.9535\n",
            "Test accuracy: 0.953499972820282\n"
          ],
          "name": "stdout"
        }
      ]
    },
    {
      "cell_type": "code",
      "metadata": {
        "colab": {
          "base_uri": "https://localhost:8080/",
          "height": 499
        },
        "id": "vCiQ-_SmhbQY",
        "outputId": "de370816-dd41-4dbf-d87b-0c3e6735bf29"
      },
      "source": [
        "acc=history.history['accuracy']\n",
        "val_acc=history.history['val_accuracy']\n",
        "loss=history.history['loss']\n",
        "val_loss=history.history['val_loss']\n",
        "epochs_range=range(10)\n",
        "\n",
        "plt.figure(figsize=(8,8))\n",
        "plt.subplot(1,2,1)\n",
        "plt.plot(epochs_range,acc,label='Traning_accuracy')\n",
        "plt.plot(epochs_range,val_acc,label='validation_accuracy')\n",
        "plt.legend(loc='lower right')\n",
        "plt.title('Training and validation accuracy')\n",
        "\n",
        "plt.subplot(1,2,2)\n",
        "plt.plot(epochs_range,loss,label='Traning_loss')\n",
        "plt.plot(epochs_range,val_loss,label='validation_loss')\n",
        "plt.legend(loc='upper right')\n",
        "plt.title('Training and validation loss')\n",
        "plt.savefig('./foo.png')\n",
        "plt.show()\n",
        "\n"
      ],
      "execution_count": 24,
      "outputs": [
        {
          "output_type": "display_data",
          "data": {
            "image/png": "[encoded data removed]",
            "text/plain": [
              "<Figure size 576x576 with 2 Axes>"
            ]
          },
          "metadata": {
            "tags": [],
            "needs_background": "light"
          }
        }
      ]
    },
    {
      "cell_type": "code",
      "metadata": {
        "id": "uiuF51NPjGKn"
      },
      "source": [
        ""
      ],
      "execution_count": null,
      "outputs": []
    }
  ]
}